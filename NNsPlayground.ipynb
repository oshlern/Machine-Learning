{
 "cells": [
  {
   "cell_type": "code",
   "execution_count": 1,
   "metadata": {},
   "outputs": [
    {
     "name": "stderr",
     "output_type": "stream",
     "text": [
      "/usr/local/lib/python3.6/site-packages/h5py/__init__.py:36: FutureWarning: Conversion of the second argument of issubdtype from `float` to `np.floating` is deprecated. In future, it will be treated as `np.float64 == np.dtype(float).type`.\n",
      "  from ._conv import register_converters as _register_converters\n",
      "Using TensorFlow backend.\n",
      "/usr/local/Cellar/python3/3.6.2/Frameworks/Python.framework/Versions/3.6/lib/python3.6/importlib/_bootstrap.py:205: RuntimeWarning: compiletime version 3.5 of module 'tensorflow.python.framework.fast_tensor_util' does not match runtime version 3.6\n",
      "  return f(*args, **kwds)\n"
     ]
    }
   ],
   "source": [
    "from __future__ import print_function, division\n",
    "\n",
    "from keras.datasets import mnist\n",
    "from keras.layers import Input, Dense, Reshape, Flatten, Dropout\n",
    "from keras.layers import BatchNormalization, Activation, ZeroPadding2D\n",
    "from keras.layers.advanced_activations import LeakyReLU\n",
    "from keras.layers.convolutional import UpSampling2D, Conv2D\n",
    "from keras.models import Sequential, Model\n",
    "from keras.optimizers import Adam\n",
    "\n",
    "import matplotlib.pyplot as plt\n",
    "\n",
    "import sys\n",
    "\n",
    "import numpy as np"
   ]
  },
  {
   "cell_type": "code",
   "execution_count": 3,
   "metadata": {},
   "outputs": [
    {
     "ename": "IndentationError",
     "evalue": "expected an indented block (<ipython-input-3-f16266ab8821>, line 2)",
     "output_type": "error",
     "traceback": [
      "\u001b[0;36m  File \u001b[0;32m\"<ipython-input-3-f16266ab8821>\"\u001b[0;36m, line \u001b[0;32m2\u001b[0m\n\u001b[0;31m    def makeConv(layers, inp_shp):\u001b[0m\n\u001b[0m      ^\u001b[0m\n\u001b[0;31mIndentationError\u001b[0m\u001b[0;31m:\u001b[0m expected an indented block\n"
     ]
    }
   ],
   "source": [
    "class LayerParams:\n",
    "    def __init__(Type=\"normal\", )\n",
    "# Make child calsses for conv and such\n",
    "class Conv(LayerParams):\n",
    "    Type = \"conv\"\n",
    "    def __init__(self, num_neurons=32, kernel_size=3, strides=2, input_shape=None, padding=\"same\"):\n",
    "        self.num_neurons = num_neurons\n",
    "        self.kernel_size = kernel_size\n",
    "        self.strides = strides\n",
    "        if input_shape != None:\n",
    "            self.has_input_shape = True\n",
    "        else:\n",
    "            self.has_input_shape = False\n",
    "        self.input_shape = input_shape\n",
    "    \n",
    "    def return_layer(self):\n",
    "        if self.has_input_shape:\n",
    "            return Conv2D(self.num_neurons, kernel_size=self.kernel_size, strides=self.strides, input_shape=self.input_shape)\n",
    "        else:\n",
    "            return Conv2D(self.num_neurons, kernel_size=self.kernel_size, strides=self.strides, padding=self.padding)\n",
    "def makeConv(layers, inp_shp):\n",
    "    model = Sequential()\n",
    "    for layer in layers:\n",
    "        if layer['type'] == 'conv'\n",
    "        model.add(Conv2D())\n",
    "discriminator"
   ]
  },
  {
   "cell_type": "code",
   "execution_count": null,
   "metadata": {
    "collapsed": true
   },
   "outputs": [],
   "source": []
  }
 ],
 "metadata": {
  "kernelspec": {
   "display_name": "Python 3",
   "language": "python",
   "name": "python3"
  },
  "language_info": {
   "codemirror_mode": {
    "name": "ipython",
    "version": 3
   },
   "file_extension": ".py",
   "mimetype": "text/x-python",
   "name": "python",
   "nbconvert_exporter": "python",
   "pygments_lexer": "ipython3",
   "version": "3.6.2"
  }
 },
 "nbformat": 4,
 "nbformat_minor": 2
}
